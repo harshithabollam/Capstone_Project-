{
  "nbformat": 4,
  "nbformat_minor": 0,
  "metadata": {
    "colab": {
      "provenance": []
    },
    "kernelspec": {
      "name": "python3",
      "display_name": "Python 3"
    },
    "language_info": {
      "name": "python"
    }
  },
  "cells": [
    {
      "cell_type": "code",
      "execution_count": null,
      "metadata": {
        "id": "ThZQ48uscWmO"
      },
      "outputs": [],
      "source": [
        "import pandas as pd\n",
        "import numpy as np\n",
        "import warnings\n",
        "warnings.filterwarnings(\"ignore\")\n",
        "from sklearn.preprocessing import LabelEncoder\n",
        "from sklearn.model_selection import train_test_split"
      ]
    },
    {
      "cell_type": "code",
      "source": [
        "df = pd.read_csv('crop_dataset.csv')\n",
        "print(df.columns)"
      ],
      "metadata": {
        "id": "NCBAdPfhcbqU"
      },
      "execution_count": null,
      "outputs": []
    },
    {
      "cell_type": "code",
      "source": [
        "df.info()"
      ],
      "metadata": {
        "id": "4nt49E-5ceQC"
      },
      "execution_count": null,
      "outputs": []
    },
    {
      "cell_type": "code",
      "source": [
        "state_encoder = LabelEncoder()\n",
        "type_encoder = LabelEncoder()\n",
        "crop_encoder = LabelEncoder()\n",
        "df[\"State_Name\"] = state_encoder.fit_transform(df[\"State_Name\"])\n",
        "df[\"Crop_Type\"] = type_encoder.fit_transform(df[\"Crop_Type\"])\n",
        "df[\"Crop\"] = crop_encoder.fit_transform(df[\"Crop\"])"
      ],
      "metadata": {
        "id": "vVgu-61kcg_J"
      },
      "execution_count": null,
      "outputs": []
    },
    {
      "cell_type": "code",
      "source": [
        "X = df.drop(['Crop','Production_in_tons','Yield_ton_per_hec'], axis=1)\n",
        "y = df['Crop']\n"
      ],
      "metadata": {
        "id": "tC6aAgpqcjj3"
      },
      "execution_count": null,
      "outputs": []
    },
    {
      "cell_type": "code",
      "source": [
        "models = []\n",
        "X_train, X_test, y_train, y_test = train_test_split(X, y,test_size = 0.20,random_state=32)\n",
        "X_train.shape,X_test.shape,y_train.shape,y_test.shape"
      ],
      "metadata": {
        "id": "fagF72U_cmWm"
      },
      "execution_count": null,
      "outputs": []
    }
  ]
}