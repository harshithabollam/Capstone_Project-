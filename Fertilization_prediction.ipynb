{
  "nbformat": 4,
  "nbformat_minor": 0,
  "metadata": {
    "colab": {
      "provenance": [],
      "toc_visible": true
    },
    "kernelspec": {
      "name": "python3",
      "display_name": "Python 3"
    },
    "language_info": {
      "name": "python"
    }
  },
  "cells": [
    {
      "cell_type": "code",
      "execution_count": null,
      "metadata": {
        "id": "sMxVDsaBYczh"
      },
      "outputs": [],
      "source": [
        "import pandas as pd\n",
        "import seaborn as sns\n",
        "import matplotlib.pyplot as plt\n",
        "import numpy as np\n",
        "import warnings\n",
        "warnings.filterwarnings('ignore')"
      ]
    },
    {
      "cell_type": "code",
      "source": [
        "data = pd.read_csv('Fertilizer Prediction.csv')\n",
        "data.head()"
      ],
      "metadata": {
        "id": "jQ2w7YhvaIy8"
      },
      "execution_count": null,
      "outputs": []
    },
    {
      "cell_type": "code",
      "source": [
        "data.info()"
      ],
      "metadata": {
        "id": "Srt7hHORaJ4a"
      },
      "execution_count": null,
      "outputs": []
    },
    {
      "cell_type": "code",
      "source": [
        "data.nunique()"
      ],
      "metadata": {
        "id": "UJFKiZdLb67X"
      },
      "execution_count": null,
      "outputs": []
    },
    {
      "cell_type": "code",
      "source": [
        "data.isna().sum()"
      ],
      "metadata": {
        "id": "qC9j6HUVcDas"
      },
      "execution_count": null,
      "outputs": []
    },
    {
      "cell_type": "code",
      "source": [
        "data.describe(include='all')"
      ],
      "metadata": {
        "id": "OUj4CjqhcIGK"
      },
      "execution_count": null,
      "outputs": []
    },
    {
      "cell_type": "code",
      "source": [
        "def plot_conti(x):\n",
        "    fig, axes = plt.subplots(nrows=1,ncols=3,figsize=(15,5),tight_layout=True)\n",
        "    axes[0].set_title('Histogram')\n",
        "    sns.histplot(x,ax=axes[0])\n",
        "    axes[1].set_title('Checking Outliers')\n",
        "    sns.boxplot(x,ax=axes[1])\n",
        "    axes[2].set_title('Relation with output variable')\n",
        "    sns.boxplot(y = x,x = data.Fertilizer)\n",
        "\n",
        "def plot_cato(x):\n",
        "    fig, axes = plt.subplots(nrows=1,ncols=2,figsize=(15,5),tight_layout=True)\n",
        "    axes[0].set_title('Count Plot')\n",
        "    sns.countplot(x,ax=axes[0])\n",
        "    axes[1].set_title('Relation with output variable')\n",
        "    sns.countplot(x = x,hue = data.Fertilizer, ax=axes[1])"
      ],
      "metadata": {
        "id": "kCR42ufQcO-r"
      },
      "execution_count": null,
      "outputs": []
    },
    {
      "cell_type": "code",
      "source": [
        "plot_conti(data.Temparature)"
      ],
      "metadata": {
        "id": "atEYEH2BcSN0"
      },
      "execution_count": null,
      "outputs": []
    }
  ]
}